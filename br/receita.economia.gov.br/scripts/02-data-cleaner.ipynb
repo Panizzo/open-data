{
 "cells": [
  {
   "cell_type": "code",
   "execution_count": 1,
   "metadata": {},
   "outputs": [],
   "source": [
    "import os\n",
    "import codecs\n",
    "from datetime import datetime"
   ]
  },
  {
   "cell_type": "code",
   "execution_count": 2,
   "metadata": {},
   "outputs": [],
   "source": [
    "def encode_to_utf8(**kwargs):\n",
    "    \"\"\"\n",
    "    Funcao para padronizar a codificacao dos arquivos originais em UTF-8.\n",
    "    Facilita a futura leitura dos arquivos e elimina caracteres desconhecidos.\n",
    "    \n",
    "    Args:\n",
    "        original_encode(str): Codificacao original do arquivo.\n",
    "                              Ex.: 'cp1252'\n",
    "        in_data_path(str): Caminho completo para acesso ao arquivo original.\n",
    "                           Ex.: '..\\data\\01-collected\\2012_Funcoes.csv'\n",
    "        out_data_path(str): Caminho completo para escrita do arquivo codificado\n",
    "                            em UTF-8.\n",
    "                            Ex.: '..\\data\\02-cleaned\\2012_Funcoes.csv'\n",
    "    \"\"\"\n",
    "    \n",
    "    # Log: Mensagem de inicio da codificacao\n",
    "    print(str(datetime.now()) + ': Inicio da codificacao do arquivo ' + kwargs['in_data_path'])\n",
    "    \n",
    "    # Le arquivo na codificacao original\n",
    "    with codecs.open(kwargs['in_data_path'], 'rb', encoding = kwargs['original_encode'], errors = 'replace') as file:\n",
    "        \n",
    "        # Substitui os caracteres desconhecidos por interrogacao\n",
    "        lines = file.read().replace('\\x1a', '?').replace('\\u0085', '?').replace('\\t',' ')\n",
    "\n",
    "    # Escreve o arquivo codificado em UTF-8\n",
    "    with codecs.open(kwargs['out_data_path'], 'w', encoding = 'utf-8') as file:\n",
    "        file.write(lines)\n",
    "    \n",
    "    # Log: Mensagem de termino da codificacao\n",
    "    print(str(datetime.now()) + ': Fim da codificacao do arquivo '+ kwargs['out_data_path'])"
   ]
  },
  {
   "cell_type": "code",
   "execution_count": 3,
   "metadata": {},
   "outputs": [],
   "source": [
    "def clean_files():\n",
    "    \"\"\"\n",
    "    Funcao para limpar os arquivos coletados, codificando em UTF-8 e elimando caracteres desconhecidos.\n",
    "    \"\"\"\n",
    "    \n",
    "    # Prepara o dicionario de variaveis (kwargs = keyworded arguments)\n",
    "    kwargs = {}\n",
    "    \n",
    "    # Diretorio de armazenamento dos arquivos originais\n",
    "    kwargs['in_data_dir'] = '..\\\\data\\\\01-collected'\n",
    "    \n",
    "    # Diretorio de armazenamento dos arquivos tratados\n",
    "    kwargs['out_data_dir'] = '..\\\\data\\\\02-cleaned'\n",
    "    \n",
    "    # Codificacao dos arquivos originais\n",
    "    kwargs['original_encode'] = 'latin-1'\n",
    "\n",
    "    # Lista dos arquivos originais \n",
    "    kwargs['data_files'] = os.listdir(kwargs['in_data_dir'])\n",
    "    \n",
    "    # Log: Mensagem de inicio do processo \n",
    "    print(str(datetime.now()) + ': Limpeza dos arquivos iniciada.')\n",
    "\n",
    "    # Para cada arquivo na lista de arquivos originais\n",
    "    for file in kwargs['data_files']:\n",
    "\n",
    "        # Define o caminho completo de acesso e escrita dos arquivos\n",
    "        kwargs['data_file'] = file\n",
    "        kwargs['in_data_path'] = os.path.join(kwargs['in_data_dir'], kwargs['data_file'])\n",
    "        kwargs['out_data_path'] = os.path.join(kwargs['out_data_dir'], kwargs['data_file'])\n",
    "        \n",
    "        # Codifica o arquivo original em UTF-8\n",
    "        encode_to_utf8(**kwargs)\n",
    "      \n",
    "    # Log: Mensagem de finalizacao do processo\n",
    "    print(str(datetime.now()) + ': Limpeza dos arquivos finalizada.')"
   ]
  },
  {
   "cell_type": "code",
   "execution_count": 4,
   "metadata": {},
   "outputs": [
    {
     "name": "stdout",
     "output_type": "stream",
     "text": [
      "2021-03-19 12:10:11.327550: Limpeza dos arquivos iniciada.\n",
      "2021-03-19 12:10:11.327550: Inicio da codificacao do arquivo ..\\data\\01-collected\\K3241.K032001K.CNPJ.D01120.L00020\n",
      "2021-03-19 12:11:13.209107: Fim da codificacao do arquivo ..\\data\\02-cleaned\\K3241.K032001K.CNPJ.D01120.L00020\n",
      "2021-03-19 12:11:13.694536: Limpeza dos arquivos finalizada.\n"
     ]
    }
   ],
   "source": [
    "def main():\n",
    "    \"\"\"\n",
    "    Limpa os dados do Cadastro Nacional de Pessoas Juridicas (CNPJ).\n",
    "    Origem: Ministerio da Economia - Receita Federal\n",
    "    \"\"\"\n",
    "        \n",
    "    ### Limpa os arquivos\n",
    "    clean_files()\n",
    "\n",
    "if __name__ == '__main__':\n",
    "    main()"
   ]
  },
  {
   "cell_type": "code",
   "execution_count": null,
   "metadata": {
    "collapsed": true
   },
   "outputs": [],
   "source": []
  }
 ],
 "metadata": {
  "kernelspec": {
   "display_name": "Python 3",
   "language": "python",
   "name": "python3"
  },
  "language_info": {
   "codemirror_mode": {
    "name": "ipython",
    "version": 3
   },
   "file_extension": ".py",
   "mimetype": "text/x-python",
   "name": "python",
   "nbconvert_exporter": "python",
   "pygments_lexer": "ipython3",
   "version": "3.7.6"
  }
 },
 "nbformat": 4,
 "nbformat_minor": 2
}
