{
 "cells": [
  {
   "cell_type": "code",
   "execution_count": 19,
   "metadata": {},
   "outputs": [],
   "source": [
    "import os\n",
    "import re\n",
    "import codecs\n",
    "from datetime import datetime"
   ]
  },
  {
   "cell_type": "code",
   "execution_count": 20,
   "metadata": {},
   "outputs": [],
   "source": [
    "def file_references(data_file):\n",
    "    \"\"\"\n",
    "    Funcao que recebe o nome do arquivo original e extrai o assunto e\n",
    "    data de referencia.\n",
    "    \n",
    "    Args:\n",
    "        data_file(str): Nome do arquivo original.\n",
    "            Ex.: 'datatran2020.csv'\n",
    "    \n",
    "    Returns:\n",
    "        year: Ano de referencia do arquivo.\n",
    "            Ex.: 2020\n",
    "    \"\"\"\n",
    "    # Expressao Regular para:\n",
    "    # Identificar o assunto, data e estado de referencia no nome do arquivo\n",
    "    file_reference_re = re.compile(r'^datatran(\\d+).csv')\n",
    "    \n",
    "    # Identifica a data de referencia do arquivo\n",
    "    year = re.search(file_reference_re, data_file).group(1)\n",
    "    \n",
    "    return int(year)\n",
    "    "
   ]
  },
  {
   "cell_type": "code",
   "execution_count": 21,
   "metadata": {},
   "outputs": [],
   "source": [
    "def encode_to_utf8(**kwargs):\n",
    "    \"\"\"\n",
    "    Funcao para padronizar a codificacao dos arquivos originais em UTF-8.\n",
    "    Facilita a futura leitura dos arquivos e elimina caracteres desconhecidos.\n",
    "    \n",
    "    Args:\n",
    "        original_encode(str): Codificacao original do arquivo.\n",
    "                              Ex.: 'cp1252'\n",
    "        in_data_path(str): Caminho completo para acesso ao arquivo original.\n",
    "                           Ex.: '..\\data\\01-collected\\2012_Funcoes.csv'\n",
    "        out_data_path(str): Caminho completo para escrita do arquivo codificado\n",
    "                            em UTF-8.\n",
    "                            Ex.: '..\\data\\02-cleaned\\2012_Funcoes.csv'\n",
    "    \"\"\"\n",
    "    \n",
    "    # Log: Mensagem de inicio da codificacao\n",
    "    print(str(datetime.now()) + ': Inicio da codificacao do arquivo ' + kwargs['in_data_path'])\n",
    "    \n",
    "    # Le arquivo na codificacao original\n",
    "    with codecs.open(kwargs['in_data_path'], 'rb', encoding = kwargs['original_encode'], errors = 'replace') as file:\n",
    "        \n",
    "        # Substitui os caracteres desconhecidos por interrogacao\n",
    "        lines = file.read().replace('\\x1a', '?').replace('\\u0085', '?').replace('\\r\\n', '\\n')\n",
    "\n",
    "    # Escreve o arquivo codificado em UTF-8\n",
    "    with codecs.open(kwargs['out_data_path'], 'w', encoding = 'utf-8') as file:\n",
    "        file.write(lines)\n",
    "    \n",
    "    # Log: Mensagem de termino da codificacao\n",
    "    print(str(datetime.now()) + ': Fim da codificacao do arquivo '+ kwargs['out_data_path'])"
   ]
  },
  {
   "cell_type": "code",
   "execution_count": 22,
   "metadata": {},
   "outputs": [],
   "source": [
    "def clean_files():\n",
    "    \"\"\"\n",
    "    Funcao para limpar os arquivos coletados, codificando em UTF-8 e elimando caracteres desconhecidos.\n",
    "    \"\"\"\n",
    "    \n",
    "    # Prepara o dicionario de variaveis (kwargs = keyworded arguments)\n",
    "    kwargs = {}\n",
    "    \n",
    "    # Diretorio de armazenamento dos arquivos originais\n",
    "    kwargs['in_data_dir'] = '..\\\\data\\\\01-collected'\n",
    "    \n",
    "    # Diretorio de armazenamento dos arquivos tratados\n",
    "    kwargs['out_data_dir'] = '..\\\\data\\\\02-cleaned'\n",
    "\n",
    "    # Lista dos arquivos originais \n",
    "    kwargs['data_files'] = os.listdir(kwargs['in_data_dir'])\n",
    "    \n",
    "    # Log: Mensagem de inicio do processo \n",
    "    print(str(datetime.now()) + ': Limpeza dos arquivos iniciada.')\n",
    "\n",
    "    # Para cada arquivo na lista de arquivos originais\n",
    "    for file in kwargs['data_files']:\n",
    "        \n",
    "        # Define o ano de referencia do arquivo\n",
    "        kwargs['year_ref'] = file_references(file)\n",
    "        \n",
    "        # Codificacao dos arquivos originais\n",
    "        if kwargs['year_ref'] >= 2020:\n",
    "            kwargs['original_encode'] = 'utf-8'\n",
    "        else:\n",
    "            kwargs['original_encode'] = 'latin-1'\n",
    "\n",
    "        # Define o caminho completo de acesso e escrita dos arquivos\n",
    "        kwargs['data_file'] = file\n",
    "        kwargs['in_data_path'] = os.path.join(kwargs['in_data_dir'], kwargs['data_file'])\n",
    "        kwargs['out_data_path'] = os.path.join(kwargs['out_data_dir'], kwargs['data_file'])\n",
    "        \n",
    "        # Codifica o arquivo original em UTF-8\n",
    "        encode_to_utf8(**kwargs)\n",
    "      \n",
    "    # Log: Mensagem de finalizacao do processo\n",
    "    print(str(datetime.now()) + ': Limpeza dos arquivos finalizada.')"
   ]
  },
  {
   "cell_type": "code",
   "execution_count": 23,
   "metadata": {},
   "outputs": [
    {
     "name": "stdout",
     "output_type": "stream",
     "text": [
      "2021-05-30 21:57:58.586982: Limpeza dos arquivos iniciada.\n",
      "2021-05-30 21:57:58.586982: Inicio da codificacao do arquivo ..\\data\\01-collected\\datatran2017.csv\n",
      "2021-05-30 21:57:58.712085: Fim da codificacao do arquivo ..\\data\\02-cleaned\\datatran2017.csv\n",
      "2021-05-30 21:57:58.712085: Inicio da codificacao do arquivo ..\\data\\01-collected\\datatran2018.csv\n",
      "2021-05-30 21:57:58.789029: Fim da codificacao do arquivo ..\\data\\02-cleaned\\datatran2018.csv\n",
      "2021-05-30 21:57:58.791015: Inicio da codificacao do arquivo ..\\data\\01-collected\\datatran2019.csv\n",
      "2021-05-30 21:57:58.868634: Fim da codificacao do arquivo ..\\data\\02-cleaned\\datatran2019.csv\n",
      "2021-05-30 21:57:58.870629: Inicio da codificacao do arquivo ..\\data\\01-collected\\datatran2020.csv\n",
      "2021-05-30 21:57:58.928028: Fim da codificacao do arquivo ..\\data\\02-cleaned\\datatran2020.csv\n",
      "2021-05-30 21:57:58.930022: Limpeza dos arquivos finalizada.\n"
     ]
    }
   ],
   "source": [
    "def main():\n",
    "    \"\"\"\n",
    "    Limpa os dados de acidentes por ocorrencia nas rodovias federais. \n",
    "    Origem: Policia Rodoviaria Federal (PRF)\n",
    "    \"\"\"\n",
    "        \n",
    "    ### Limpa os arquivos\n",
    "    clean_files()\n",
    "\n",
    "if __name__ == '__main__':\n",
    "    main()"
   ]
  },
  {
   "cell_type": "code",
   "execution_count": null,
   "metadata": {},
   "outputs": [],
   "source": []
  }
 ],
 "metadata": {
  "kernelspec": {
   "display_name": "Python 3",
   "language": "python",
   "name": "python3"
  },
  "language_info": {
   "codemirror_mode": {
    "name": "ipython",
    "version": 3
   },
   "file_extension": ".py",
   "mimetype": "text/x-python",
   "name": "python",
   "nbconvert_exporter": "python",
   "pygments_lexer": "ipython3",
   "version": "3.7.6"
  }
 },
 "nbformat": 4,
 "nbformat_minor": 4
}
