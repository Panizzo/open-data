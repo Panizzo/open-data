{
 "cells": [
  {
   "cell_type": "code",
   "execution_count": 5,
   "metadata": {},
   "outputs": [],
   "source": [
    "import os\n",
    "import codecs\n",
    "from datetime import datetime"
   ]
  },
  {
   "cell_type": "code",
   "execution_count": 6,
   "metadata": {},
   "outputs": [],
   "source": [
    "def join_lines(**kwargs):\n",
    "    \"\"\"\n",
    "    Le o arquivo de entrada, caso algum dos registros tenha quantidade de colunas diferente\n",
    "    do cabecalho, a linha seguinte e concatenada com a atual e escrita no arquivo de saida.\n",
    "    \"\"\"\n",
    "    \n",
    "    # Log: Mensagem de inicio da verificacao dos registros\n",
    "    print(str(datetime.now()) + ': Verificando registros do arquivo ' + kwargs['data_file'])\n",
    "    \n",
    "    # Le o arquivo de entrada\n",
    "    with codecs.open(kwargs['in_data_path'], 'r', encoding = 'utf-8') as reader:\n",
    "        \n",
    "        # Prepara o arquivo de saida\n",
    "        with codecs.open(kwargs['out_data_path'], 'w', encoding = 'utf-8') as writer:\n",
    "            \n",
    "            # Armazena o header do arquivo de entrada\n",
    "            header = reader.readline()\n",
    "            \n",
    "            # Conta a quantidade de colunas no header\n",
    "            qt_columns = header.count(';')\n",
    "            \n",
    "            # Define os contadores\n",
    "            qt_lines = 0\n",
    "            qt_joins = 0\n",
    "            \n",
    "            # Escreve o cabecalho no arquivo de saida\n",
    "            writer.write(header)\n",
    "            \n",
    "            # Para cada linha no arquivo de entrada\n",
    "            for line in reader:\n",
    "                \n",
    "                # Escreve o registro do arquivo de entrada no arquivo de saida \n",
    "                # Caso o registro tenha quantidade de colunas diferente do cabecalho\n",
    "                # a linha seguinte e concatenada com a atual\n",
    "                if line.count(';') != qt_columns:\n",
    "                    qt_joins += 1\n",
    "                    writer.write(line.replace(\"\\r\\n\", \"\") + reader.readline())\n",
    "                else:\n",
    "                    qt_lines += 1\n",
    "                    writer.write(line)\n",
    "                    \n",
    "    # Log: Resultado da verificacao dos registros\n",
    "    print(str(datetime.now()) + ': Resultado: Normais = ' + str(qt_lines) + ' - Corrigidas = ' + str(qt_joins))"
   ]
  },
  {
   "cell_type": "code",
   "execution_count": 7,
   "metadata": {},
   "outputs": [],
   "source": [
    "def organize_files():\n",
    "    \"\"\"\n",
    "    Para cada arquivo de origem, e verificado se a quantidade de colunas de cada registro corresponde\n",
    "    com a quantidade de colunas do cabecalho do arquivo.        \n",
    "    \"\"\"\n",
    "    \n",
    "    # Prepara o dicionario de variaveis (kwargs = keyworded arguments)\n",
    "    kwargs = {}\n",
    "    \n",
    "    # Diretorio de armazenamento dos arquivos originais\n",
    "    kwargs['in_data_dir'] = '..\\\\data\\\\02-cleaned'\n",
    "    \n",
    "    # Diretorio de armazenamento dos arquivos tratados\n",
    "    kwargs['out_data_dir'] = '..\\\\data\\\\03-organized'\n",
    "    \n",
    "    # Lista dos arquivos originais \n",
    "    kwargs['data_files'] = os.listdir(kwargs['in_data_dir'])\n",
    "    \n",
    "    # Log: Mensagem de inicio do processo \n",
    "    print(str(datetime.now()) + ': Organizacao dos arquivos iniciada.')\n",
    "    \n",
    "    # Para cada arquivo na lista de arquivos originais\n",
    "    for file in kwargs['data_files']:\n",
    "        \n",
    "        # Define o caminho completo de acesso e escrita dos arquivos\n",
    "        kwargs['data_file'] = file\n",
    "        kwargs['in_data_path'] = os.path.join(kwargs['in_data_dir'], kwargs['data_file'])\n",
    "        kwargs['out_data_path'] = os.path.join(kwargs['out_data_dir'], kwargs['data_file'])\n",
    "        \n",
    "        # Corrige registros com menos colunas que o esperado\n",
    "        join_lines(**kwargs)\n",
    "      \n",
    "    # Log: Mensagem de finalizacao do processo de limpeza\n",
    "    print(str(datetime.now()) + ': Organizacao dos arquivos finalizada.')"
   ]
  },
  {
   "cell_type": "code",
   "execution_count": 8,
   "metadata": {},
   "outputs": [
    {
     "name": "stdout",
     "output_type": "stream",
     "text": [
      "2021-05-30 21:59:11.723043: Organizacao dos arquivos iniciada.\n",
      "2021-05-30 21:59:11.723043: Verificando registros do arquivo datatran2017.csv\n",
      "2021-05-30 21:59:12.721097: Resultado: Normais = 89563 - Corrigidas = 0\n",
      "2021-05-30 21:59:12.721097: Verificando registros do arquivo datatran2018.csv\n",
      "2021-05-30 21:59:13.502251: Resultado: Normais = 69295 - Corrigidas = 0\n",
      "2021-05-30 21:59:13.502251: Verificando registros do arquivo datatran2019.csv\n",
      "2021-05-30 21:59:14.224149: Resultado: Normais = 67446 - Corrigidas = 0\n",
      "2021-05-30 21:59:14.224149: Verificando registros do arquivo datatran2020.csv\n",
      "2021-05-30 21:59:14.895655: Resultado: Normais = 63530 - Corrigidas = 0\n",
      "2021-05-30 21:59:14.895655: Organizacao dos arquivos finalizada.\n"
     ]
    }
   ],
   "source": [
    "def main():\n",
    "    \"\"\"\n",
    "    Organiza os dados de acidentes por ocorrencia nas rodovias federais. \n",
    "    Origem: Policia Rodoviaria Federal (PRF)\n",
    "    \"\"\"\n",
    "    \n",
    "    ### Organiza os arquivos\n",
    "    organize_files()\n",
    "\n",
    "if __name__ == '__main__':\n",
    "    main()"
   ]
  },
  {
   "cell_type": "code",
   "execution_count": null,
   "metadata": {},
   "outputs": [],
   "source": []
  }
 ],
 "metadata": {
  "kernelspec": {
   "display_name": "Python 3",
   "language": "python",
   "name": "python3"
  },
  "language_info": {
   "codemirror_mode": {
    "name": "ipython",
    "version": 3
   },
   "file_extension": ".py",
   "mimetype": "text/x-python",
   "name": "python",
   "nbconvert_exporter": "python",
   "pygments_lexer": "ipython3",
   "version": "3.7.6"
  }
 },
 "nbformat": 4,
 "nbformat_minor": 4
}
