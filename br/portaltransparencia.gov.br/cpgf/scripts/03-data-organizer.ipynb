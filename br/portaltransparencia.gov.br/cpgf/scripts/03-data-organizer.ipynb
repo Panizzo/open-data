{
 "cells": [
  {
   "cell_type": "code",
   "execution_count": 1,
   "metadata": {},
   "outputs": [],
   "source": [
    "import os\n",
    "import codecs\n",
    "from datetime import datetime"
   ]
  },
  {
   "cell_type": "code",
   "execution_count": 2,
   "metadata": {},
   "outputs": [],
   "source": [
    "def join_lines(**kwargs):\n",
    "    \"\"\"\n",
    "    Le o arquivo de entrada, caso alguma das linhas tenha quantidade de colunas diferente\n",
    "    da do cabecalho, a linha seguinte e concatenada com a atual e escrita no arquivo de saida.\n",
    "    \"\"\"\n",
    "    \n",
    "    # Log: Mensagem de inicio da verificacao dos registros\n",
    "    print(str(datetime.now()) + ': Verificando registros do arquivo ' + kwargs['data_file'] + ' .')\n",
    "    \n",
    "    # Le o arquivo de entrada\n",
    "    with codecs.open(kwargs['in_data_path'], 'r', encoding = 'utf-8') as reader:\n",
    "        \n",
    "        # Prepara o arquivo de saida\n",
    "        with codecs.open(kwargs['out_data_path'], 'w', encoding = 'utf-8') as writer:\n",
    "            \n",
    "            # Armazena o header\n",
    "            header = reader.readline()\n",
    "            \n",
    "            # Conta a quantidade de colunas no header\n",
    "            qt_columns = header.count(\"\\t\")\n",
    "            \n",
    "            # Contadores\n",
    "            qt_lines = 0\n",
    "            qt_joins = 0\n",
    "            \n",
    "            writer.write(header)\n",
    "            \n",
    "            for line in reader:\n",
    "                \n",
    "                if line.count(\"\\t\") != qt_columns:                        \n",
    "                    qt_joins += 1\n",
    "                    writer.write(line.replace(\"\\r\\n\", \"\") + reader.readline())\n",
    "                else:\n",
    "                    qt_lines += 1\n",
    "                    writer.write(line)\n",
    "                    \n",
    "    # Log: Resultado da verificacao dos registros\n",
    "    print(str(datetime.now()) + ': Resultado: Normais = ' + str(qt_lines) + ' - Corrigidas = ' + str(qt_joins))"
   ]
  },
  {
   "cell_type": "code",
   "execution_count": 3,
   "metadata": {},
   "outputs": [],
   "source": [
    "def organize_files():\n",
    "    \"\"\"\n",
    "    Para cada arquivo de origem, e verificado se a quantidade de colunas de cada registros corresponde\n",
    "    com a quantidade de colunas do cabecalho do arquivo.        \n",
    "    \"\"\"\n",
    "    \n",
    "    # Prepara o dicionario de variaveis (kwargs = keyworded arguments)\n",
    "    kwargs = {}\n",
    "    \n",
    "    # Diretorio de armazenamento dos arquivos originais\n",
    "    kwargs['in_data_dir'] = '..\\\\data\\\\02-cleaned'\n",
    "    \n",
    "    # Diretorio de armazenamento dos arquivos tratados\n",
    "    kwargs['out_data_dir'] = '..\\\\data\\\\03-organized'\n",
    "    \n",
    "    # Lista dos arquivos originais \n",
    "    kwargs['data_files'] = os.listdir(kwargs['in_data_dir'])\n",
    "    \n",
    "    # Log: Mensagem de inicio do processo \n",
    "    print(str(datetime.now()) + ': Organizacao dos arquivos iniciada.')\n",
    "    \n",
    "    # Para cada arquivo na lista de arquivos originais\n",
    "    for file in kwargs['data_files']:\n",
    "        \n",
    "        kwargs['data_file'] = file\n",
    "\n",
    "        # Define o caminho completo de acesso e escrita dos arquivos\n",
    "        kwargs['in_data_path'] = os.path.join(kwargs['in_data_dir'], kwargs['data_file'])\n",
    "        kwargs['out_data_path'] = os.path.join(kwargs['out_data_dir'], kwargs['data_file'])\n",
    "        \n",
    "        # Log: Corrige registros com menos colunas que o esperado\n",
    "        print(str(datetime.now()) + ': Enviando ' + kwargs['data_file'] + ' para organizacao.')\n",
    "        join_lines(**kwargs)\n",
    "      \n",
    "    # Log: Mensagem de finalizacao do processo de limpeza\n",
    "    print(str(datetime.now()) + ': Organizacao dos arquivos finalizada.')"
   ]
  },
  {
   "cell_type": "code",
   "execution_count": 4,
   "metadata": {},
   "outputs": [
    {
     "name": "stdout",
     "output_type": "stream",
     "text": [
      "2019-08-16 09:15:50.059066: Organizacao dos arquivos iniciada.\n",
      "2019-08-16 09:15:50.060056: Enviando 201901_CPGF.csv para organizacao.\n",
      "2019-08-16 09:15:50.060056: Verificando registros do arquivo 201901_CPGF.csv .\n",
      "2019-08-16 09:15:50.211649: Resultado: Normais = 8988 - Corrigidas = 0\n",
      "2019-08-16 09:15:50.211649: Enviando 201902_CPGF.csv para organizacao.\n",
      "2019-08-16 09:15:50.211649: Verificando registros do arquivo 201902_CPGF.csv .\n",
      "2019-08-16 09:15:50.246554: Resultado: Normais = 1985 - Corrigidas = 0\n",
      "2019-08-16 09:15:50.246554: Enviando 201903_CPGF.csv para organizacao.\n",
      "2019-08-16 09:15:50.246554: Verificando registros do arquivo 201903_CPGF.csv .\n",
      "2019-08-16 09:15:50.377205: Resultado: Normais = 7129 - Corrigidas = 0\n",
      "2019-08-16 09:15:50.377205: Enviando 201904_CPGF.csv para organizacao.\n",
      "2019-08-16 09:15:50.377205: Verificando registros do arquivo 201904_CPGF.csv .\n",
      "2019-08-16 09:15:50.499921: Resultado: Normais = 8361 - Corrigidas = 0\n",
      "2019-08-16 09:15:50.499921: Enviando 201905_CPGF.csv para organizacao.\n",
      "2019-08-16 09:15:50.499921: Verificando registros do arquivo 201905_CPGF.csv .\n",
      "2019-08-16 09:15:50.662445: Resultado: Normais = 10876 - Corrigidas = 0\n",
      "2019-08-16 09:15:50.662445: Enviando 201906_CPGF.csv para organizacao.\n",
      "2019-08-16 09:15:50.662445: Verificando registros do arquivo 201906_CPGF.csv .\n",
      "2019-08-16 09:15:50.892867: Resultado: Normais = 11708 - Corrigidas = 0\n",
      "2019-08-16 09:15:50.892867: Organizacao dos arquivos finalizada.\n"
     ]
    }
   ],
   "source": [
    "def main():\n",
    "    \"\"\"\n",
    "    Organiza os dados de Cartao de Pagamento do Governo Federal (CPGF)\n",
    "    Origem: Portal da Transparencia\n",
    "    \"\"\"\n",
    "    \n",
    "    ### Organiza os arquivos\n",
    "    organize_files()\n",
    "\n",
    "if __name__ == '__main__':\n",
    "    main()"
   ]
  },
  {
   "cell_type": "code",
   "execution_count": null,
   "metadata": {},
   "outputs": [],
   "source": []
  }
 ],
 "metadata": {
  "kernelspec": {
   "display_name": "Python 3",
   "language": "python",
   "name": "python3"
  },
  "language_info": {
   "codemirror_mode": {
    "name": "ipython",
    "version": 3
   },
   "file_extension": ".py",
   "mimetype": "text/x-python",
   "name": "python",
   "nbconvert_exporter": "python",
   "pygments_lexer": "ipython3",
   "version": "3.7.0"
  }
 },
 "nbformat": 4,
 "nbformat_minor": 2
}
