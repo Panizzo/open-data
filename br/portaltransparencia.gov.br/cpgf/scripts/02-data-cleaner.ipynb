{
 "cells": [
  {
   "cell_type": "code",
   "execution_count": 1,
   "metadata": {},
   "outputs": [],
   "source": [
    "import os\n",
    "import codecs\n",
    "from datetime import datetime"
   ]
  },
  {
   "cell_type": "code",
   "execution_count": 2,
   "metadata": {},
   "outputs": [],
   "source": [
    "def encode_to_utf8(**kwargs):\n",
    "    \"\"\"\n",
    "    Funcao para padronizar a codificacao dos arquivos originais em UTF-8.\n",
    "    Facilita a futura leitura dos arquivos e elimina caracteres desconhecidos.\n",
    "    \n",
    "    Args:\n",
    "        original_encode(str): Codificacao original do arquivo.\n",
    "                              Ex.: 'cp1252'\n",
    "        in_data_path(str): Caminho completo para acesso ao arquivo original.\n",
    "                           Ex.: '..\\data\\raw\\2012_Funcoes.csv'\n",
    "        out_data_path(str): Caminho completo para escrita do arquivo codificado\n",
    "                            em UTF-8.\n",
    "                            Ex.: '..\\data\\encoded\\2012_Funcoes.csv'\n",
    "    \"\"\"\n",
    "    \n",
    "    # Log: Mensagem de inicio da codificacao\n",
    "    print(str(datetime.now()) + ': Inicio da codificacao do arquivo ' + kwargs['in_data_path'])\n",
    "    \n",
    "    # Le arquivo na codificacao original\n",
    "    with codecs.open(kwargs['in_data_path'], 'rb', encoding = kwargs['original_encode'], errors = 'replace') as file:\n",
    "        # Substitui os caracteres desconhecidos por interrogacao\n",
    "        lines = file.read().replace('\\x1a', '?')\n",
    "\n",
    "    # Escreve o arquivo codificado em UTF-8\n",
    "    with codecs.open(kwargs['out_data_path'], 'w', encoding = 'utf-8') as file:\n",
    "        file.write(lines)\n",
    "    \n",
    "    # Log: Mensagem de termino da codificacao\n",
    "    print(str(datetime.now()) + ': Fim da codificacao do arquivo '+ kwargs['out_data_path'])"
   ]
  },
  {
   "cell_type": "code",
   "execution_count": 3,
   "metadata": {},
   "outputs": [],
   "source": [
    "def clean_files():\n",
    "    \"\"\"\n",
    "    Funcao para limpar os arquivos coletados, codificando em UTF-8 e elimando caracteres desconhecidos.\n",
    "    \"\"\"\n",
    "    \n",
    "    # Prepara o dicionario de variaveis (kwargs = keyworded arguments)\n",
    "    kwargs = {}\n",
    "    \n",
    "    # Diretorio de armazenamento dos arquivos originais\n",
    "    kwargs['in_data_dir'] = '..\\\\data\\\\01-collected'\n",
    "    \n",
    "    # Diretorio de armazenamento dos arquivos tratados\n",
    "    kwargs['out_data_dir'] = '..\\\\data\\\\02-cleaned'\n",
    "    \n",
    "    # Codificacao dos arquivos originais\n",
    "    kwargs['original_encode'] = 'latin-1'\n",
    "\n",
    "    # Lista dos arquivos originais \n",
    "    kwargs['data_files'] = os.listdir(kwargs['in_data_dir'])\n",
    "\n",
    "    # Para cada arquivo na lista de arquivos originais\n",
    "    for file in kwargs['data_files']:\n",
    "        \n",
    "        kwargs['data_file'] = file\n",
    "\n",
    "        # Define o caminho completo de acesso e escrita dos arquivos\n",
    "        kwargs['in_data_path'] = os.path.join(kwargs['in_data_dir'], kwargs['data_file'])\n",
    "        kwargs['out_data_path'] = os.path.join(kwargs['out_data_dir'], kwargs['data_file'])\n",
    "        \n",
    "        # Codifica o arquivo original em UTF-8\n",
    "        print(str(datetime.now()) + ': Enviando ' + kwargs['data_file'] + ' para limpeza.')\n",
    "        encode_to_utf8(**kwargs)\n",
    "      \n",
    "    # Log: Mensagem de finalizacao do processo de limpeza\n",
    "    print(str(datetime.now()) + ': Limpeza dos arquivos finalizada.')"
   ]
  },
  {
   "cell_type": "code",
   "execution_count": 4,
   "metadata": {},
   "outputs": [
    {
     "name": "stdout",
     "output_type": "stream",
     "text": [
      "2019-08-16 09:15:30.356865: Enviando 201901_CPGF.csv para limpeza.\n",
      "2019-08-16 09:15:30.356865: Inicio da codificacao do arquivo ..\\data\\01-collected\\201901_CPGF.csv\n",
      "2019-08-16 09:15:30.374302: Fim da codificacao do arquivo ..\\data\\02-cleaned\\201901_CPGF.csv\n",
      "2019-08-16 09:15:30.374302: Enviando 201902_CPGF.csv para limpeza.\n",
      "2019-08-16 09:15:30.375301: Inicio da codificacao do arquivo ..\\data\\01-collected\\201902_CPGF.csv\n",
      "2019-08-16 09:15:30.381331: Fim da codificacao do arquivo ..\\data\\02-cleaned\\201902_CPGF.csv\n",
      "2019-08-16 09:15:30.382283: Enviando 201903_CPGF.csv para limpeza.\n",
      "2019-08-16 09:15:30.382283: Inicio da codificacao do arquivo ..\\data\\01-collected\\201903_CPGF.csv\n",
      "2019-08-16 09:15:30.397239: Fim da codificacao do arquivo ..\\data\\02-cleaned\\201903_CPGF.csv\n",
      "2019-08-16 09:15:30.397239: Enviando 201904_CPGF.csv para limpeza.\n",
      "2019-08-16 09:15:30.397239: Inicio da codificacao do arquivo ..\\data\\01-collected\\201904_CPGF.csv\n",
      "2019-08-16 09:15:30.409211: Fim da codificacao do arquivo ..\\data\\02-cleaned\\201904_CPGF.csv\n",
      "2019-08-16 09:15:30.410206: Enviando 201905_CPGF.csv para limpeza.\n",
      "2019-08-16 09:15:30.410206: Inicio da codificacao do arquivo ..\\data\\01-collected\\201905_CPGF.csv\n",
      "2019-08-16 09:15:30.423181: Fim da codificacao do arquivo ..\\data\\02-cleaned\\201905_CPGF.csv\n",
      "2019-08-16 09:15:30.424169: Enviando 201906_CPGF.csv para limpeza.\n",
      "2019-08-16 09:15:30.424169: Inicio da codificacao do arquivo ..\\data\\01-collected\\201906_CPGF.csv\n",
      "2019-08-16 09:15:30.438139: Fim da codificacao do arquivo ..\\data\\02-cleaned\\201906_CPGF.csv\n",
      "2019-08-16 09:15:30.438139: Limpeza dos arquivos finalizada.\n"
     ]
    }
   ],
   "source": [
    "def main():\n",
    "    \"\"\"\n",
    "    Limpa os dados de Cartao de Pagamento do Governo Federal (CPGF)\n",
    "    Origem: Portal da Transparencia\n",
    "    \"\"\"\n",
    "        \n",
    "    ### Limpa os arquivos\n",
    "    clean_files()\n",
    "\n",
    "if __name__ == '__main__':\n",
    "    main()"
   ]
  },
  {
   "cell_type": "code",
   "execution_count": null,
   "metadata": {},
   "outputs": [],
   "source": []
  }
 ],
 "metadata": {
  "kernelspec": {
   "display_name": "Python 3",
   "language": "python",
   "name": "python3"
  },
  "language_info": {
   "codemirror_mode": {
    "name": "ipython",
    "version": 3
   },
   "file_extension": ".py",
   "mimetype": "text/x-python",
   "name": "python",
   "nbconvert_exporter": "python",
   "pygments_lexer": "ipython3",
   "version": "3.7.0"
  }
 },
 "nbformat": 4,
 "nbformat_minor": 2
}
